{
  "nbformat": 4,
  "nbformat_minor": 0,
  "metadata": {
    "colab": {
      "provenance": [],
      "authorship_tag": "ABX9TyPzsx6IPASxvBlbzSFkNzrc",
      "include_colab_link": true
    },
    "kernelspec": {
      "name": "python3",
      "display_name": "Python 3"
    },
    "language_info": {
      "name": "python"
    }
  },
  "cells": [
    {
      "cell_type": "markdown",
      "metadata": {
        "id": "view-in-github",
        "colab_type": "text"
      },
      "source": [
        "<a href=\"https://colab.research.google.com/github/rastringer/ml_gke_notebooks/blob/main/introduction.ipynb\" target=\"_parent\"><img src=\"https://colab.research.google.com/assets/colab-badge.svg\" alt=\"Open In Colab\"/></a>"
      ]
    },
    {
      "cell_type": "markdown",
      "source": [
        "### Training a simple MNIST model on T4 GPU using GKE\n",
        "\n",
        "In this introductory notebook, we will create and run a simple model training job using a GPU on GKE.\n",
        "\n",
        "The MNIST database (Modified National Institute of Standards and Technology database) is a popular dataset for training image recognition and other machine learning models. It comprises 60,000 training images and 10,000 test images of handwritten digits, 0-9.\n",
        "\n",
        "As is common for container-based workloads, this code should be easily adapted to running elsewhere, either on a local kubernetes cluster or on another cloud.\n",
        "\n",
        "### Authenticate to GCP"
      ],
      "metadata": {
        "id": "Rv76sbm3U2IT"
      }
    },
    {
      "cell_type": "code",
      "source": [
        "from google.colab import auth\n",
        "auth.authenticate_user()"
      ],
      "metadata": {
        "id": "23lc27zkU0SH"
      },
      "execution_count": null,
      "outputs": []
    },
    {
      "cell_type": "markdown",
      "source": [
        "Let's make sure we have the Google Cloud CLI installed."
      ],
      "metadata": {
        "id": "Adzxse4hVDFi"
      }
    },
    {
      "cell_type": "code",
      "source": [
        "%%bash\n",
        "\n",
        "curl https://packages.cloud.google.com/apt/doc/apt-key.gpg |  gpg --dearmor -o /usr/share/keyrings/cloud.google.gpg\n",
        "\n",
        "echo \"deb [signed-by=/usr/share/keyrings/cloud.google.gpg] https://packages.cloud.google.com/apt cloud-sdk main\" |  tee -a /etc/apt/sources.list.d/google-cloud-sdk.list\n",
        "\n",
        "apt-get update &&  apt-get install google-cloud-cli\n",
        "\n",
        "apt-get update && apt-get install google-cloud-cli-gke-gcloud-auth-plugin\n"
      ],
      "metadata": {
        "id": "-Z0KNFeSUygk"
      },
      "execution_count": null,
      "outputs": []
    },
    {
      "cell_type": "markdown",
      "source": [
        "Here's how we can install `kubectl` in the Colab environment."
      ],
      "metadata": {
        "id": "jekg86nZWuOk"
      }
    },
    {
      "cell_type": "code",
      "source": [
        "%%bash\n",
        "\n",
        "apt-get update && apt-get install -y apt-transport-https gnupg2\n",
        "curl -s https://packages.cloud.google.com/apt/doc/apt-key.gpg | apt-key add -\n",
        "echo \"deb https://apt.kubernetes.io/ kubernetes-xenial main\" | tee -a /etc/apt/sources.list.d/kubernetes.list\n",
        "apt-get update\n",
        "apt-get install -y kubectl"
      ],
      "metadata": {
        "id": "EEklYhgbWpOj"
      },
      "execution_count": null,
      "outputs": []
    },
    {
      "cell_type": "code",
      "source": [
        "%%bash\n",
        "\n",
        "gcloud config set project notebooks-370010"
      ],
      "metadata": {
        "id": "_354g2oMSOZd"
      },
      "execution_count": null,
      "outputs": []
    },
    {
      "cell_type": "code",
      "source": [
        "%%bash\n",
        "\n",
        "gcloud projects describe notebooks-370010 --format=\"value(projectNumber)\""
      ],
      "metadata": {
        "id": "0WrG8o2ETxLW"
      },
      "execution_count": null,
      "outputs": []
    },
    {
      "cell_type": "code",
      "source": [
        "%%bash\n",
        "\n",
        "gcloud services enable iam.googleapis.com"
      ],
      "metadata": {
        "id": "eY8atHd7VOod"
      },
      "execution_count": null,
      "outputs": []
    },
    {
      "cell_type": "markdown",
      "source": [
        "### Set environment"
      ],
      "metadata": {
        "id": "uIuHPfl0tqhX"
      }
    },
    {
      "cell_type": "code",
      "source": [
        "import os\n",
        "\n",
        "os.environ[\"PROJECT_ID\"] = \"<your-project-id>\"\n",
        "os.environ[\"REGION\"] = \"us-central1\"\n",
        "os.environ[\"BUCKET_NAME\"] = \"<your-bucket-name>\""
      ],
      "metadata": {
        "id": "_yPj_Yv_vwWH"
      },
      "execution_count": null,
      "outputs": []
    },
    {
      "cell_type": "markdown",
      "source": [
        "### Create a GKE cluster\n",
        "\n",
        "There are many options when creating a GKE cluster, please see [here](https://cloud.google.com/sdk/gcloud/reference/container/clusters/create) for the full list.\n",
        "\n"
      ],
      "metadata": {
        "id": "Z8tEBusj3uRH"
      }
    },
    {
      "cell_type": "code",
      "source": [
        "%%bash\n",
        "\n",
        "gcloud container clusters create t4-demo --location ${REGION} \\\n",
        "  --workload-pool ${PROJECT_ID}.svc.id.goog \\\n",
        "  --enable-image-streaming \\\n",
        "  --enable-shielded-nodes \\\n",
        "  --shielded-secure-boot \\\n",
        "  --shielded-integrity-monitoring \\\n",
        "  --enable-ip-alias \\\n",
        "  --node-locations=${REGION}-a \\\n",
        "  --network projects/$PROJECT_ID/global/networks/k8s-vpc \\\n",
        "  --subnetwork tpu-cluster-subnet \\\n",
        "  --workload-pool=${PROJECT_ID}.svc.id.goog \\\n",
        "  --labels=\"ml-on-gke=t4-demo\" \\\n",
        "  --addons GcsFuseCsiDriver"
      ],
      "metadata": {
        "id": "yYhS2ghP0Q-d"
      },
      "execution_count": null,
      "outputs": []
    },
    {
      "cell_type": "markdown",
      "source": [
        "Now that we have a cluster, we need to add a node pool with the T4 GPUs. Create a [node pool](https://cloud.google.com/kubernetes-engine/docs/how-to/gpus) with T4 GPU."
      ],
      "metadata": {
        "id": "b-sXCUk33zi9"
      }
    },
    {
      "cell_type": "code",
      "source": [
        "%%bash\n",
        "\n",
        "gcloud container node-pools create t4-pool \\\n",
        "  --accelerator type=nvidia-tesla-t4,count=1,gpu-driver-version=default \\\n",
        "  --machine-type=n1-standard-2 \\\n",
        "  --num-nodes=2 \\\n",
        "  --region=${REGION} \\\n",
        "  --cluster=t4-demo \\\n",
        "  --node-locations us-central1-a \\"
      ],
      "metadata": {
        "id": "4ZvEEu793yfz"
      },
      "execution_count": null,
      "outputs": []
    },
    {
      "cell_type": "code",
      "source": [
        "%%bash\n",
        "\n",
        "apt-get update && apt-get install -y apt-transport-https gnupg2\n",
        "curl -s https://packages.cloud.google.com/apt/doc/apt-key.gpg | apt-key add -\n",
        "echo \"deb https://apt.kubernetes.io/ kubernetes-xenial main\" | tee -a /etc/apt/sources.list.d/kubernetes.list\n",
        "apt-get update\n",
        "apt-get install -y kubectl"
      ],
      "metadata": {
        "id": "av_qSHrm3Nay"
      },
      "execution_count": null,
      "outputs": []
    },
    {
      "cell_type": "markdown",
      "source": [
        "###Set up the convolutional neural net\n",
        "\n",
        "Here's our simple convolutional neural network in PyTorch which we will use for some investigations on the MNIST dataset of hand-drawn numbers, 0-9. It consists of:\n",
        "\n",
        "* Two convolutional layers (conv1 and conv2)\n",
        "* Two dropout layers, used for regularization\n",
        "* Two fully connected layers - these 'flatten' outputs from the pervious layers and reduce the dimensions to the final output of 10 classes in this case (numerals 0-9)\n",
        "* The 'forward' methos defines the forward pass of data through the various layers, with ReLU activation, max-pooling and dropout to prevent overfitting."
      ],
      "metadata": {
        "id": "xERpM8Cd8Vn-"
      }
    },
    {
      "cell_type": "markdown",
      "source": [
        "### Writefile\n",
        "\n",
        "We use `%%writefile`, a magic function for notebooks, to write our code to a file, `train.py` in this case."
      ],
      "metadata": {
        "id": "MGZ6Tiak9YAf"
      }
    },
    {
      "cell_type": "code",
      "source": [
        "%%writefile train.py\n",
        "\n",
        "\"\"\"\n",
        "Thanks to Meta for the PyTorch example at\n",
        "https://github.com/pytorch/examples/blob/main/mnist/main.py\n",
        "\"\"\"\n",
        "\n",
        "import os\n",
        "import argparse\n",
        "import torch\n",
        "import torch.nn as nn\n",
        "import torch.nn.functional as F\n",
        "import torch.optim as optim\n",
        "from torchvision import datasets, transforms\n",
        "from torch.optim.lr_scheduler import StepLR\n",
        "\n",
        "class Net(nn.Module):\n",
        "    def __init__(self):\n",
        "        super(Net, self).__init__()\n",
        "        self.conv1 = nn.Conv2d(1, 32, 3, 1)\n",
        "        self.conv2 = nn.Conv2d(32, 64, 3, 1)\n",
        "        self.dropout1 = nn.Dropout(0.25)\n",
        "        self.dropout2 = nn.Dropout(0.5)\n",
        "        self.fc1 = nn.Linear(9216, 128)\n",
        "        self.fc2 = nn.Linear(128, 10)\n",
        "\n",
        "    def forward(self, x):\n",
        "        x = self.conv1(x)\n",
        "        x = F.relu(x)\n",
        "        x = self.conv2(x)\n",
        "        x = F.relu(x)\n",
        "        x = F.max_pool2d(x, 2)\n",
        "        x = self.dropout1(x)\n",
        "        x = torch.flatten(x, 1)\n",
        "        x = self.fc1(x)\n",
        "        x = F.relu(x)\n",
        "        x = self.dropout2(x)\n",
        "        x = self.fc2(x)\n",
        "        output = F.log_softmax(x, dim=1)\n",
        "        return output\n",
        "\n",
        "\n",
        "def train(model, device, train_loader, optimizer, epoch):\n",
        "    model.train()\n",
        "    for batch_idx, (data, target) in enumerate(train_loader):\n",
        "        data, target = data.to(device), target.to(device)\n",
        "        optimizer.zero_grad()\n",
        "        output = model(data)\n",
        "        loss = F.nll_loss(output, target)\n",
        "        loss.backward()\n",
        "        optimizer.step()\n",
        "        if batch_idx % LOG_INTERVAL == 0:\n",
        "            print('Train Epoch: {} [{}/{} ({:.0f}%)]\\tLoss: {:.6f}'.format(\n",
        "                epoch, batch_idx * len(data), len(train_loader.dataset),\n",
        "                100. * batch_idx / len(train_loader), loss.item()))\n",
        "\n",
        "\n",
        "def test(model, device, test_loader):\n",
        "    model.eval()\n",
        "    test_loss = 0\n",
        "    correct = 0\n",
        "    with torch.no_grad():\n",
        "        for data, target in test_loader:\n",
        "            data, target = data.to(device), target.to(device)\n",
        "            output = model(data)\n",
        "            test_loss += F.nll_loss(output, target, reduction='sum').item()  # sum up batch loss\n",
        "            pred = output.argmax(dim=1, keepdim=True)  # get the index of the max log-probability\n",
        "            correct += pred.eq(target.view_as(pred)).sum().item()\n",
        "\n",
        "    test_loss /= len(test_loader.dataset)\n",
        "\n",
        "    print('\\nTest set: Average loss: {:.4f}, Accuracy: {}/{} ({:.0f}%)\\n'.format(\n",
        "        test_loss, correct, len(test_loader.dataset),\n",
        "        100. * correct / len(test_loader.dataset)))\n",
        "\n",
        "EPOCHS = 1\n",
        "BATCH_SIZE = 64\n",
        "LR = 0.001\n",
        "GAMMA = 0.7\n",
        "SEED = 1\n",
        "LOG_INTERVAL = 100\n",
        "\n",
        "use_cuda = torch.cuda.is_available()\n",
        "\n",
        "torch.manual_seed(SEED)\n",
        "\n",
        "if use_cuda:\n",
        "    device = torch.device(\"cuda\")\n",
        "else:\n",
        "    device = torch.device(\"cpu\")\n",
        "\n",
        "train_kwargs = {'batch_size': BATCH_SIZE}\n",
        "test_kwargs = {'batch_size': BATCH_SIZE}\n",
        "if use_cuda:\n",
        "    cuda_kwargs = {'num_workers': 1,\n",
        "                    'pin_memory': True,\n",
        "                    'shuffle': True}\n",
        "    train_kwargs.update(cuda_kwargs)\n",
        "    test_kwargs.update(cuda_kwargs)\n",
        "\n",
        "transform=transforms.Compose([\n",
        "    transforms.ToTensor(),\n",
        "    transforms.Normalize((0.1307,), (0.3081,))\n",
        "    ])\n",
        "dataset1 = datasets.MNIST('../data', train=True, download=True,\n",
        "                    transform=transform)\n",
        "dataset2 = datasets.MNIST('../data', train=False,\n",
        "                    transform=transform)\n",
        "train_loader = torch.utils.data.DataLoader(dataset1,**train_kwargs)\n",
        "test_loader = torch.utils.data.DataLoader(dataset2, **test_kwargs)\n",
        "\n",
        "model = Net().to(device)\n",
        "optimizer = optim.Adadelta(model.parameters(), lr=LR)\n",
        "\n",
        "scheduler = StepLR(optimizer, step_size=1, gamma=GAMMA)\n",
        "for epoch in range(1, EPOCHS + 1):\n",
        "    train(model, device, train_loader, optimizer, epoch)\n",
        "    test(model, device, test_loader)\n",
        "    scheduler.step()\n",
        "\n",
        "torch.save(model, \"mnist_cnn.pt\")\n",
        "\n",
        "# Upload the trained model to Cloud storage\n",
        "from google.cloud import storage\n",
        "\n",
        "storage_client = storage.Client()\n",
        "\n",
        "BUCKET_NAME=\"genai-experiments\"\n",
        "\n",
        "destination_blob_name = \"k8s-models/mnist_cnn.pt\"\n",
        "\n",
        "bucket = storage_client.bucket(BUCKET_NAME)\n",
        "blob = bucket.blob(destination_blob_name)\n",
        "\n",
        "blob.upload_from_filename(\"mnist_cnn.pt\")\n",
        "\n",
        "print(f\"Model uploaded to: gs://{BUCKET_NAME}/{destination_blob_name}\")\n",
        "\n",
        "from google.cloud import logging\n",
        "\n",
        "client = logging.Client()\n",
        "logger = client.logger('training_job_logger')\n",
        "\n",
        "text = f\"Resource usage: CPU={cpu_usage}%, Memory={memory_usage}MB\"\n",
        "logger.log_text(text, severity='INFO')"
      ],
      "metadata": {
        "id": "hYhCYz6F-aFW"
      },
      "execution_count": null,
      "outputs": []
    },
    {
      "cell_type": "code",
      "source": [
        "%%writefile Dockerfile\n",
        "\n",
        "FROM nvidia/cuda:12.2.0-runtime-ubuntu22.04\n",
        "\n",
        "RUN apt-get update && \\\n",
        "    apt-get -y --no-install-recommends install python3-dev gcc python3-pip git && \\\n",
        "    rm -rf /var/lib/apt/lists/*\n",
        "\n",
        "RUN pip3 install --no-cache-dir torch torchvision transformers peft datasets bitsandbytes protobuf scipy einops google-cloud-storage google-cloud-logging\n",
        "\n",
        "COPY train.py /train.py\n",
        "\n",
        "ENV PYTHONUNBUFFERED 1\n",
        "\n",
        "CMD python3 /train.py"
      ],
      "metadata": {
        "id": "ND_IUMZiBYpc"
      },
      "execution_count": null,
      "outputs": []
    },
    {
      "cell_type": "code",
      "source": [
        "%%bash\n",
        "\n",
        "gcloud artifacts repositories create pytorch-t4 \\\n",
        "    --project=$PROJECT_ID \\\n",
        "    --repository-format=docker \\\n",
        "    --location=us-central1 \\\n",
        "    --description=\"Docker repository\""
      ],
      "metadata": {
        "id": "1fycbJHyBY2L"
      },
      "execution_count": null,
      "outputs": []
    },
    {
      "cell_type": "code",
      "source": [
        "%%bash\n",
        "\n",
        "gcloud builds submit \\\n",
        "  --tag us-central1-docker.pkg.dev/$PROJECT_ID/pytorch-t4/mnist-train ."
      ],
      "metadata": {
        "id": "2BabRm8rBY43"
      },
      "execution_count": null,
      "outputs": []
    },
    {
      "cell_type": "markdown",
      "source": [
        "### YAML\n",
        "\n",
        "In the context of Kubernetes, a YAML (YAML Ain't Markup Language) file is a human-readable data serialization format used for configuration files. Kubernetes uses YAML files to define and configure resources such as pods, deployments, services, and more.\n",
        "\n",
        "The file typically contains a set of key-value pairs, where the keys represent the configuration options and the values represent their respective settings. The structure corresponds to the desired state of the  resources needed for a job.\n",
        "\n",
        "A YAML file for a basic Pod might look like this:\n",
        "\n",
        "```\n",
        "apiVersion: v1\n",
        "kind: Pod\n",
        "metadata:\n",
        "  name: example-pod\n",
        "spec:\n",
        "  containers:\n",
        "  - name: nginx-container\n",
        "    image: nginx:latest\n",
        "\n",
        "```\n",
        "\n",
        "We will see additional key-value pairs in the YAML necessary for our training job, including the job name, the docker image, and a graceful termination setting.\n",
        "\n",
        "YAML files are typically run with a `kubectl` command such as:\n",
        "\n",
        "`kubectl apply -f example-pod.yaml`\n"
      ],
      "metadata": {
        "id": "tVL0E7cR6Xam"
      }
    },
    {
      "cell_type": "markdown",
      "source": [
        "Remember to add your project id to the .yaml file below:"
      ],
      "metadata": {
        "id": "pipXnfYmwXRy"
      }
    },
    {
      "cell_type": "code",
      "source": [
        "%%writefile train.yaml\n",
        "\n",
        "apiVersion: batch/v1\n",
        "kind: Job\n",
        "metadata:\n",
        "  name: train-job-1\n",
        "spec:\n",
        "  backoffLimit: 2\n",
        "  template:\n",
        "    metadata:\n",
        "    spec:\n",
        "      terminationGracePeriodSeconds: 60\n",
        "      containers:\n",
        "      - name: mnist-train\n",
        "        image: us-central1-docker.pkg.dev/<YOUR-PROJECT-ID>/pytorch-t4/mnist-train:latest\n",
        "        resources:\n",
        "          limits:\n",
        "      restartPolicy: OnFailure"
      ],
      "metadata": {
        "id": "AbKkhL8TBY7k"
      },
      "execution_count": null,
      "outputs": []
    },
    {
      "cell_type": "markdown",
      "source": [
        "### kubectl\n",
        "\n",
        "`kubectl` is the command-line tool used for interacting with Kubernetes clusters. It serves as the primary means for administrators, developers, and operators to manage Kubernetes clusters and work with the resources within them. The name \"Kube Control.\""
      ],
      "metadata": {
        "id": "ggkuZh9j7bFC"
      }
    },
    {
      "cell_type": "markdown",
      "source": [
        "Let's link `kubectl` to the cluster so we can start and check the training job."
      ],
      "metadata": {
        "id": "oVrcQQKhRKJ1"
      }
    },
    {
      "cell_type": "code",
      "source": [
        "!gcloud container clusters get-credentials t4-demo \\\n",
        "    --location us-central1"
      ],
      "metadata": {
        "id": "S1DKmT9yukW2"
      },
      "execution_count": null,
      "outputs": []
    },
    {
      "cell_type": "code",
      "source": [
        "!kubectl config set-context t4-demo"
      ],
      "metadata": {
        "id": "PnvgHmUpuIk9"
      },
      "execution_count": null,
      "outputs": []
    },
    {
      "cell_type": "code",
      "source": [
        "!kubectl cluster-info"
      ],
      "metadata": {
        "id": "ai0wQo6luwnd"
      },
      "execution_count": null,
      "outputs": []
    },
    {
      "cell_type": "code",
      "source": [
        "!kubectl apply -f train.yaml"
      ],
      "metadata": {
        "id": "nQBBxsNiFfUV"
      },
      "execution_count": null,
      "outputs": []
    },
    {
      "cell_type": "code",
      "source": [
        "!kubectl get jobs"
      ],
      "metadata": {
        "id": "tAgGWxYPJtW1"
      },
      "execution_count": null,
      "outputs": []
    },
    {
      "cell_type": "code",
      "source": [
        "!kubectl get nodes"
      ],
      "metadata": {
        "id": "GlJNNqydg2_m"
      },
      "execution_count": null,
      "outputs": []
    },
    {
      "cell_type": "code",
      "source": [
        "!kubectl describe job train-job-1"
      ],
      "metadata": {
        "id": "_Rdt6kt5JxLV"
      },
      "execution_count": null,
      "outputs": []
    },
    {
      "cell_type": "markdown",
      "source": [
        "To inspect the pods running the job, replace the value below with the `Created pod: xxxxx` value above."
      ],
      "metadata": {
        "id": "nxk0UolTXGk_"
      }
    },
    {
      "cell_type": "code",
      "source": [
        "!kubectl describe pod train-job-1-xxxxx"
      ],
      "metadata": {
        "id": "nBiaA6RdY15O"
      },
      "execution_count": null,
      "outputs": []
    },
    {
      "cell_type": "markdown",
      "source": [
        "Finally, check the model file is in the specified storage bucket"
      ],
      "metadata": {
        "id": "nhcbWNSozDaA"
      }
    },
    {
      "cell_type": "code",
      "source": [
        "!gsutil ls gs://{BUCKET_NAME}/k8s-models/mnist_cnn.pt"
      ],
      "metadata": {
        "id": "9gvf2ez-y8Hn"
      },
      "execution_count": null,
      "outputs": []
    },
    {
      "cell_type": "markdown",
      "source": [
        "----------------------------------"
      ],
      "metadata": {
        "id": "4KCipYw3iMqy"
      }
    }
  ]
}